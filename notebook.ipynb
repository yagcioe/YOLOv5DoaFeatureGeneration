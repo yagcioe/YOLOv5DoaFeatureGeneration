{
 "cells": [
  {
   "cell_type": "code",
   "execution_count": 1,
   "metadata": {},
   "outputs": [],
   "source": [
    "import featureGen\n"
   ]
  },
  {
   "cell_type": "code",
   "execution_count": null,
   "metadata": {},
   "outputs": [],
   "source": [
    "featureGen.clearDir()\n",
    "featureGen.runParallel(20)"
   ]
  },
  {
   "cell_type": "code",
   "execution_count": 2,
   "metadata": {},
   "outputs": [
    {
     "name": "stdout",
     "output_type": "stream",
     "text": [
      "10 4\n",
      "run 0ated Room 5 / 10.\n",
      "run 1ated Room 6 / 10.\n",
      "run 2ated Room 7 / 10.\n",
      "run 3ated Room 8 / 10.\n",
      "run 4ated Room 9 / 10.\n",
      "Generated Room 10 / 10.\n",
      "run 5\n",
      "run 6ated Room 11 / 10.\n",
      "run 7ated Room 12 / 10.\n",
      "run 8ated Room 13 / 10.\n",
      "run 9ated Room 14 / 10.\n"
     ]
    }
   ],
   "source": [
    "try:\n",
    "    featureGen.clearDir()\n",
    "except Exception as e:\n",
    "    print(str(e))\n",
    "featureGen.run(10,4)"
   ]
  },
  {
   "cell_type": "code",
   "execution_count": null,
   "metadata": {},
   "outputs": [],
   "source": [
    "import os\n",
    "path= '/workspace/featureData/'\n",
    "if(not os.path.isdir(path)):\n",
    "    os.makedirs(path)\n"
   ]
  }
 ],
 "metadata": {
  "interpreter": {
   "hash": "a66112871099270ba3c9589d3e46a508c41ead4dda120b4ee9d66340ef64746e"
  },
  "kernelspec": {
   "display_name": "Python 3.9.13 64-bit",
   "language": "python",
   "name": "python3"
  },
  "language_info": {
   "codemirror_mode": {
    "name": "ipython",
    "version": 3
   },
   "file_extension": ".py",
   "mimetype": "text/x-python",
   "name": "python",
   "nbconvert_exporter": "python",
   "pygments_lexer": "ipython3",
   "version": "3.9.13"
  },
  "orig_nbformat": 4
 },
 "nbformat": 4,
 "nbformat_minor": 2
}
