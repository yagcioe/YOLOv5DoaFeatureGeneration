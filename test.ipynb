{
 "cells": [
  {
   "cell_type": "code",
   "execution_count": 8,
   "metadata": {},
   "outputs": [
    {
     "name": "stdout",
     "output_type": "stream",
     "text": [
      "40\n"
     ]
    }
   ],
   "source": [
    "import glob\n",
    "import shutil\n",
    "my_path = \"/workspace/featureData/\"\n",
    "dest = \"/workspace/featureDataObject/\"\n",
    "try:\n",
    "    shutil.rmtree(dest)\n",
    "except Exception as e:\n",
    "    print('no dir to del')\n",
    "shutil.copytree(my_path, dest)\n",
    "\n",
    "files = glob.glob(dest + '/**/*.txt', recursive=True)\n",
    "\n",
    "# my_path/     the dir\n",
    "# **/       every file and dir under my_path\n",
    "# *.txt     every file that ends with '.txt'\n",
    "print(len(files))\n",
    "for f in files:\n",
    "    labels = []\n",
    "    with open(f, mode='rt') as file:\n",
    "        line: str = file.readline()\n",
    "        while(line):\n",
    "            lab = line.split()\n",
    "            lab[0] = '0'  # replace class with 0\n",
    "            labels.append(lab)\n",
    "            line = file.readline()\n",
    "    labels = [' '.join(l)+'\\n' for l in labels] # join on whitespace \n",
    "    with open(f, mode='wt') as file:\n",
    "        file.writelines(labels)\n"
   ]
  },
  {
   "cell_type": "code",
   "execution_count": null,
   "metadata": {},
   "outputs": [],
   "source": []
  }
 ],
 "metadata": {
  "kernelspec": {
   "display_name": "Python 3.9.13 64-bit",
   "language": "python",
   "name": "python3"
  },
  "language_info": {
   "codemirror_mode": {
    "name": "ipython",
    "version": 3
   },
   "file_extension": ".py",
   "mimetype": "text/x-python",
   "name": "python",
   "nbconvert_exporter": "python",
   "pygments_lexer": "ipython3",
   "version": "3.9.13"
  },
  "orig_nbformat": 4,
  "vscode": {
   "interpreter": {
    "hash": "a66112871099270ba3c9589d3e46a508c41ead4dda120b4ee9d66340ef64746e"
   }
  }
 },
 "nbformat": 4,
 "nbformat_minor": 2
}
